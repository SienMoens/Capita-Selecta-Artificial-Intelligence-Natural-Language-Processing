{
  "nbformat": 4,
  "nbformat_minor": 0,
  "metadata": {
    "kernelspec": {
      "display_name": "Python 3",
      "language": "python",
      "name": "python3"
    },
    "language_info": {
      "codemirror_mode": {
        "name": "ipython",
        "version": 2
      },
      "file_extension": ".py",
      "mimetype": "text/x-python",
      "name": "python",
      "nbconvert_exporter": "python",
      "pygments_lexer": "ipython2",
      "version": "2.7.6"
    },
    "colab": {
      "provenance": []
    }
  },
  "cells": [
    {
      "cell_type": "markdown",
      "source": [
        "Self-attention exercise\n"
      ],
      "metadata": {
        "id": "sFn8Wr-1q2Sl"
      }
    },
    {
      "cell_type": "code",
      "metadata": {
        "id": "eq_J8LSI644x"
      },
      "source": [
        "import matplotlib.pyplot as plt\n",
        "import numpy as np\n",
        "np.random.seed(1)\n",
        "plt.rcParams[\"figure.figsize\"] = 8,2\n",
        "xaxis = np.array(range(0,9))\n",
        "extent = [xaxis[0]-(xaxis[1]-xaxis[0])/2., xaxis[-1]+(xaxis[1]-xaxis[0])/2.,0,1]\n",
        "\n",
        "s1 = \"Juventus lost from Ajax because they were too strong\".split(\" \")\n",
        "s2 = \"Juventus lost from Ajax because they were too weak\".split(\" \")\n",
        "reps1 = np.array([[1, 0, 0, -1, 0, 0, 0, 0, -1],\n",
        "                  [0, 0, 0,  0, 0, 1, 0, 0,  1]])  # 2x9\n",
        "reps2 = np.array([[1, 0, 0, -1, 0, 0, 0, 0,  1],\n",
        "                  [0, 0, 0,  0, 0, 1, 0, 0,  1]])  # 2x9\n",
        "\n",
        "Wk = np.array([[1, 0],\n",
        "               [0, 1],\n",
        "               [0, 0]])  # 3x2\n",
        "Wq = np.array([[1, 0],\n",
        "               [0, 1],\n",
        "               [0, 0]])  # 3x2\n",
        "Wv = np.array([[1, 0],\n",
        "               [0, 1]])  # 2x2\n",
        "\n",
        "def softmax(x,axis=0):\n",
        "    \"\"\"Compute softmax values for each sets of scores in x.\"\"\"\n",
        "    return np.exp(x) / np.sum(np.exp(x), axis=axis)\n",
        "\n",
        "def attend(reps):\n",
        "  # TODO: multiply the right matrices to calculate the attention output (= attention weights (after softmax) and values)\n",
        "  # Tip: to multiply two matrices, you can use \"@\". E.g.,\n",
        "  # a = np.array([[1,0],[2,0])\n",
        "  # b = np.array([[1,0],[1,1])\n",
        "  # c = a @ b\n",
        "  ...\n",
        "\n",
        "\n",
        "\n",
        "\n",
        "\n",
        "def colormap(y):\n",
        "  plt.imshow(y[np.newaxis,:], cmap=\"plasma\", aspect=\"auto\", extent=extent)\n",
        "  plt.xticks(xaxis,s)\n",
        "  plt.yticks([.5],['they'])\n",
        "  plt.colorbar()\n",
        "  plt.tight_layout()\n",
        "  plt.show()\n",
        "\n",
        "\n",
        "for s,reps in zip((s1,s2),(reps1,reps2)):\n",
        "  a1,v1 = attend(reps)\n",
        "  a2,v2 = attend(v1)\n",
        "  print(\"After applying self-attention once\")\n",
        "  colormap(a1[:,5]) # 5 is the index of the word \"they\". We want to plot the attention when \"they\" is the query\n",
        "  print(\"After applying self-attention twice\")\n",
        "  colormap(a2[:,5])\n"
      ],
      "execution_count": null,
      "outputs": []
    },
    {
      "cell_type": "markdown",
      "source": [
        "Cross-modal search exercise"
      ],
      "metadata": {
        "id": "uHYJ2dykq8sF"
      }
    },
    {
      "cell_type": "code",
      "source": [
        "import numpy as np\n",
        "I = np.array([[0.2,   -1.5, 0.6,  0.3],\n",
        "              [-0.4,  -0.5, 1.2,  -0.1]])\n",
        "T = np.array([[0.9,   0.3],\n",
        "              [-0.8,  -0.1],\n",
        "              [0.3,   -0.5]])\n",
        "Wi = np.array([[0.6, 0.3, -0.2],\n",
        "               [1.3, 0.3, -0.6],\n",
        "               [0.8, 0.2, -0.3],\n",
        "               [0.4, 0.4, 0.7]])\n",
        "Wt = np.array([[-1.2, 0.5,  0.8],\n",
        "               [0.4,  -0.1, -1.6]])\n",
        "..."
      ],
      "metadata": {
        "id": "HaHTETKJq5ez"
      },
      "execution_count": null,
      "outputs": []
    },
    {
      "cell_type": "markdown",
      "source": [
        "LSTM exercise"
      ],
      "metadata": {
        "id": "wbci3PdhsQnX"
      }
    },
    {
      "cell_type": "code",
      "source": [
        "import numpy as np\n",
        "def tanh(x):\n",
        "  return (np.exp(x) - np.exp(-x))/(np.exp(x) + np.exp(-x))\n",
        "\n",
        "Cprev = np.array([1.3,.6,-.5])\n",
        "f = np.array([0.8,0.1,0.9])\n",
        "i = np.array([0.3,0.7,0.6])\n",
        "Cprime = np.array([0.6,0.1,-0.3])\n",
        "o = np.array([0.2,0.1,0.7])\n",
        "\n",
        "..."
      ],
      "metadata": {
        "id": "oXaYK6vFsVmf"
      },
      "execution_count": null,
      "outputs": []
    }
  ]
}